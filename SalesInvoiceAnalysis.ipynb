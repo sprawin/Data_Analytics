{
  "nbformat": 4,
  "nbformat_minor": 0,
  "metadata": {
    "colab": {
      "name": "ExploratoryAnalysisOnSalesInvoice.ipynb",
      "provenance": []
    },
    "kernelspec": {
      "name": "python3",
      "display_name": "Python 3"
    },
    "language_info": {
      "name": "python"
    }
  },
  "cells": [
    {
      "cell_type": "markdown",
      "metadata": {
        "id": "79qdxjYnXSOb"
      },
      "source": [
        "**Import Dataset**"
      ]
    },
    {
      "cell_type": "code",
      "metadata": {
        "id": "DWpME3c3WCgg"
      },
      "source": [
        "import pandas as pd\n",
        "import numpy as np\n",
        "import seaborn as sns\n",
        "import matplotlib.pyplot as plt\n",
        "%matplotlib inline"
      ],
      "execution_count": 25,
      "outputs": []
    },
    {
      "cell_type": "markdown",
      "metadata": {
        "id": "1F7ZioyfXWek"
      },
      "source": [
        "**Read Data**"
      ]
    },
    {
      "cell_type": "code",
      "metadata": {
        "id": "YVUKdnO7W6Qk"
      },
      "source": [
        "df = pd.read_csv(\"supermarket_sales.csv\")"
      ],
      "execution_count": 26,
      "outputs": []
    },
    {
      "cell_type": "markdown",
      "metadata": {
        "id": "m8s1y9bhXZEk"
      },
      "source": [
        "**Sample Data**"
      ]
    },
    {
      "cell_type": "code",
      "metadata": {
        "colab": {
          "base_uri": "https://localhost:8080/",
          "height": 306
        },
        "id": "1BdhPDc8W7bk",
        "outputId": "e4730ef3-4cf7-4636-db4d-f278a57791c1"
      },
      "source": [
        "df.head()"
      ],
      "execution_count": 27,
      "outputs": [
        {
          "output_type": "execute_result",
          "data": {
            "text/html": [
              "<div>\n",
              "<style scoped>\n",
              "    .dataframe tbody tr th:only-of-type {\n",
              "        vertical-align: middle;\n",
              "    }\n",
              "\n",
              "    .dataframe tbody tr th {\n",
              "        vertical-align: top;\n",
              "    }\n",
              "\n",
              "    .dataframe thead th {\n",
              "        text-align: right;\n",
              "    }\n",
              "</style>\n",
              "<table border=\"1\" class=\"dataframe\">\n",
              "  <thead>\n",
              "    <tr style=\"text-align: right;\">\n",
              "      <th></th>\n",
              "      <th>Invoice ID</th>\n",
              "      <th>Branch</th>\n",
              "      <th>City</th>\n",
              "      <th>Customer type</th>\n",
              "      <th>Gender</th>\n",
              "      <th>Product line</th>\n",
              "      <th>Unit price</th>\n",
              "      <th>Quantity</th>\n",
              "      <th>Tax 5%</th>\n",
              "      <th>Total</th>\n",
              "      <th>Date</th>\n",
              "      <th>Time</th>\n",
              "      <th>Payment</th>\n",
              "      <th>cogs</th>\n",
              "      <th>gross margin percentage</th>\n",
              "      <th>gross income</th>\n",
              "      <th>Rating</th>\n",
              "    </tr>\n",
              "  </thead>\n",
              "  <tbody>\n",
              "    <tr>\n",
              "      <th>0</th>\n",
              "      <td>750-67-8428</td>\n",
              "      <td>A</td>\n",
              "      <td>Yangon</td>\n",
              "      <td>Member</td>\n",
              "      <td>Female</td>\n",
              "      <td>Health and beauty</td>\n",
              "      <td>74.69</td>\n",
              "      <td>7</td>\n",
              "      <td>26.1415</td>\n",
              "      <td>548.9715</td>\n",
              "      <td>1/5/2019</td>\n",
              "      <td>13:08</td>\n",
              "      <td>Ewallet</td>\n",
              "      <td>522.83</td>\n",
              "      <td>4.761905</td>\n",
              "      <td>26.1415</td>\n",
              "      <td>9.1</td>\n",
              "    </tr>\n",
              "    <tr>\n",
              "      <th>1</th>\n",
              "      <td>226-31-3081</td>\n",
              "      <td>C</td>\n",
              "      <td>Naypyitaw</td>\n",
              "      <td>Normal</td>\n",
              "      <td>Female</td>\n",
              "      <td>Electronic accessories</td>\n",
              "      <td>15.28</td>\n",
              "      <td>5</td>\n",
              "      <td>3.8200</td>\n",
              "      <td>80.2200</td>\n",
              "      <td>3/8/2019</td>\n",
              "      <td>10:29</td>\n",
              "      <td>Cash</td>\n",
              "      <td>76.40</td>\n",
              "      <td>4.761905</td>\n",
              "      <td>3.8200</td>\n",
              "      <td>9.6</td>\n",
              "    </tr>\n",
              "    <tr>\n",
              "      <th>2</th>\n",
              "      <td>631-41-3108</td>\n",
              "      <td>A</td>\n",
              "      <td>Yangon</td>\n",
              "      <td>Normal</td>\n",
              "      <td>Male</td>\n",
              "      <td>Home and lifestyle</td>\n",
              "      <td>46.33</td>\n",
              "      <td>7</td>\n",
              "      <td>16.2155</td>\n",
              "      <td>340.5255</td>\n",
              "      <td>3/3/2019</td>\n",
              "      <td>13:23</td>\n",
              "      <td>Credit card</td>\n",
              "      <td>324.31</td>\n",
              "      <td>4.761905</td>\n",
              "      <td>16.2155</td>\n",
              "      <td>7.4</td>\n",
              "    </tr>\n",
              "    <tr>\n",
              "      <th>3</th>\n",
              "      <td>123-19-1176</td>\n",
              "      <td>A</td>\n",
              "      <td>Yangon</td>\n",
              "      <td>Member</td>\n",
              "      <td>Male</td>\n",
              "      <td>Health and beauty</td>\n",
              "      <td>58.22</td>\n",
              "      <td>8</td>\n",
              "      <td>23.2880</td>\n",
              "      <td>489.0480</td>\n",
              "      <td>1/27/2019</td>\n",
              "      <td>20:33</td>\n",
              "      <td>Ewallet</td>\n",
              "      <td>465.76</td>\n",
              "      <td>4.761905</td>\n",
              "      <td>23.2880</td>\n",
              "      <td>8.4</td>\n",
              "    </tr>\n",
              "    <tr>\n",
              "      <th>4</th>\n",
              "      <td>373-73-7910</td>\n",
              "      <td>A</td>\n",
              "      <td>Yangon</td>\n",
              "      <td>Normal</td>\n",
              "      <td>Male</td>\n",
              "      <td>Sports and travel</td>\n",
              "      <td>86.31</td>\n",
              "      <td>7</td>\n",
              "      <td>30.2085</td>\n",
              "      <td>634.3785</td>\n",
              "      <td>2/8/2019</td>\n",
              "      <td>10:37</td>\n",
              "      <td>Ewallet</td>\n",
              "      <td>604.17</td>\n",
              "      <td>4.761905</td>\n",
              "      <td>30.2085</td>\n",
              "      <td>5.3</td>\n",
              "    </tr>\n",
              "  </tbody>\n",
              "</table>\n",
              "</div>"
            ],
            "text/plain": [
              "    Invoice ID Branch       City  ... gross margin percentage gross income Rating\n",
              "0  750-67-8428      A     Yangon  ...                4.761905      26.1415    9.1\n",
              "1  226-31-3081      C  Naypyitaw  ...                4.761905       3.8200    9.6\n",
              "2  631-41-3108      A     Yangon  ...                4.761905      16.2155    7.4\n",
              "3  123-19-1176      A     Yangon  ...                4.761905      23.2880    8.4\n",
              "4  373-73-7910      A     Yangon  ...                4.761905      30.2085    5.3\n",
              "\n",
              "[5 rows x 17 columns]"
            ]
          },
          "metadata": {
            "tags": []
          },
          "execution_count": 27
        }
      ]
    },
    {
      "cell_type": "markdown",
      "metadata": {
        "id": "D2IYujohXb4u"
      },
      "source": [
        "**Get Columns**"
      ]
    },
    {
      "cell_type": "code",
      "metadata": {
        "colab": {
          "base_uri": "https://localhost:8080/"
        },
        "id": "Vy9Kl3zlXEQ8",
        "outputId": "7f279fa9-a678-4efa-e6fc-45851d47c3cc"
      },
      "source": [
        "df.columns"
      ],
      "execution_count": 28,
      "outputs": [
        {
          "output_type": "execute_result",
          "data": {
            "text/plain": [
              "Index(['Invoice ID', 'Branch', 'City', 'Customer type', 'Gender',\n",
              "       'Product line', 'Unit price', 'Quantity', 'Tax 5%', 'Total', 'Date',\n",
              "       'Time', 'Payment', 'cogs', 'gross margin percentage', 'gross income',\n",
              "       'Rating'],\n",
              "      dtype='object')"
            ]
          },
          "metadata": {
            "tags": []
          },
          "execution_count": 28
        }
      ]
    },
    {
      "cell_type": "markdown",
      "metadata": {
        "id": "erAHL2qDXfn0"
      },
      "source": [
        "**Check for Duplicated Values**"
      ]
    },
    {
      "cell_type": "code",
      "metadata": {
        "colab": {
          "base_uri": "https://localhost:8080/"
        },
        "id": "QHK29vshW9lE",
        "outputId": "ea495dd9-9f58-4e2b-90f7-b8f1a4ab7423"
      },
      "source": [
        "df.duplicated().sum()"
      ],
      "execution_count": 29,
      "outputs": [
        {
          "output_type": "execute_result",
          "data": {
            "text/plain": [
              "0"
            ]
          },
          "metadata": {
            "tags": []
          },
          "execution_count": 29
        }
      ]
    },
    {
      "cell_type": "markdown",
      "metadata": {
        "id": "qMzLZZdvXjzs"
      },
      "source": [
        "**Check for Missing Values**"
      ]
    },
    {
      "cell_type": "code",
      "metadata": {
        "colab": {
          "base_uri": "https://localhost:8080/"
        },
        "id": "Poi8ME-HXmEk",
        "outputId": "f24ac21a-a835-4576-f07e-a6ab8de96a52"
      },
      "source": [
        "df.isna().sum()"
      ],
      "execution_count": 30,
      "outputs": [
        {
          "output_type": "execute_result",
          "data": {
            "text/plain": [
              "Invoice ID                 0\n",
              "Branch                     0\n",
              "City                       0\n",
              "Customer type              0\n",
              "Gender                     0\n",
              "Product line               0\n",
              "Unit price                 0\n",
              "Quantity                   0\n",
              "Tax 5%                     0\n",
              "Total                      0\n",
              "Date                       0\n",
              "Time                       0\n",
              "Payment                    0\n",
              "cogs                       0\n",
              "gross margin percentage    0\n",
              "gross income               0\n",
              "Rating                     0\n",
              "dtype: int64"
            ]
          },
          "metadata": {
            "tags": []
          },
          "execution_count": 30
        }
      ]
    },
    {
      "cell_type": "markdown",
      "metadata": {
        "id": "k0AYVxS5Xwqj"
      },
      "source": [
        "**Column Information**<br><br>\n",
        "cogs = unit price * quantity<br>\n",
        "Tax = 0.05 * cogs<br>\n",
        "Total = cogs + Tax<br>\n",
        "gross Income = Total - cogs <br>\n",
        "gross margin percentage = gross Income / Total<br><br>"
      ]
    },
    {
      "cell_type": "markdown",
      "metadata": {
        "id": "dnGxq1heYXxk"
      },
      "source": [
        "**Changing data type of Date and Time Columns**"
      ]
    },
    {
      "cell_type": "code",
      "metadata": {
        "id": "y0fXYOtPYH89"
      },
      "source": [
        "df['Date'] = pd.to_datetime(df.Date)\n",
        "df['Time'] = pd.to_datetime(df.Time)"
      ],
      "execution_count": 31,
      "outputs": []
    },
    {
      "cell_type": "code",
      "metadata": {
        "id": "Cg9kdjQ7ZTu9"
      },
      "source": [
        "df[\"day\"] = df['Date'].map(lambda x: x.day)\n",
        "df[\"month\"] = df['Date'].map(lambda x: x.month)\n",
        "df[\"year\"] = df['Date'].map(lambda x: x.year)"
      ],
      "execution_count": 32,
      "outputs": []
    },
    {
      "cell_type": "code",
      "metadata": {
        "colab": {
          "base_uri": "https://localhost:8080/",
          "height": 391
        },
        "id": "S6uhN1GMZ1-O",
        "outputId": "a3128a24-ffc0-473e-af52-24d531cfc591"
      },
      "source": [
        "df.head()"
      ],
      "execution_count": 33,
      "outputs": [
        {
          "output_type": "execute_result",
          "data": {
            "text/html": [
              "<div>\n",
              "<style scoped>\n",
              "    .dataframe tbody tr th:only-of-type {\n",
              "        vertical-align: middle;\n",
              "    }\n",
              "\n",
              "    .dataframe tbody tr th {\n",
              "        vertical-align: top;\n",
              "    }\n",
              "\n",
              "    .dataframe thead th {\n",
              "        text-align: right;\n",
              "    }\n",
              "</style>\n",
              "<table border=\"1\" class=\"dataframe\">\n",
              "  <thead>\n",
              "    <tr style=\"text-align: right;\">\n",
              "      <th></th>\n",
              "      <th>Invoice ID</th>\n",
              "      <th>Branch</th>\n",
              "      <th>City</th>\n",
              "      <th>Customer type</th>\n",
              "      <th>Gender</th>\n",
              "      <th>Product line</th>\n",
              "      <th>Unit price</th>\n",
              "      <th>Quantity</th>\n",
              "      <th>Tax 5%</th>\n",
              "      <th>Total</th>\n",
              "      <th>Date</th>\n",
              "      <th>Time</th>\n",
              "      <th>Payment</th>\n",
              "      <th>cogs</th>\n",
              "      <th>gross margin percentage</th>\n",
              "      <th>gross income</th>\n",
              "      <th>Rating</th>\n",
              "      <th>day</th>\n",
              "      <th>month</th>\n",
              "      <th>year</th>\n",
              "    </tr>\n",
              "  </thead>\n",
              "  <tbody>\n",
              "    <tr>\n",
              "      <th>0</th>\n",
              "      <td>750-67-8428</td>\n",
              "      <td>A</td>\n",
              "      <td>Yangon</td>\n",
              "      <td>Member</td>\n",
              "      <td>Female</td>\n",
              "      <td>Health and beauty</td>\n",
              "      <td>74.69</td>\n",
              "      <td>7</td>\n",
              "      <td>26.1415</td>\n",
              "      <td>548.9715</td>\n",
              "      <td>2019-01-05</td>\n",
              "      <td>2021-06-21 13:08:00</td>\n",
              "      <td>Ewallet</td>\n",
              "      <td>522.83</td>\n",
              "      <td>4.761905</td>\n",
              "      <td>26.1415</td>\n",
              "      <td>9.1</td>\n",
              "      <td>5</td>\n",
              "      <td>1</td>\n",
              "      <td>2019</td>\n",
              "    </tr>\n",
              "    <tr>\n",
              "      <th>1</th>\n",
              "      <td>226-31-3081</td>\n",
              "      <td>C</td>\n",
              "      <td>Naypyitaw</td>\n",
              "      <td>Normal</td>\n",
              "      <td>Female</td>\n",
              "      <td>Electronic accessories</td>\n",
              "      <td>15.28</td>\n",
              "      <td>5</td>\n",
              "      <td>3.8200</td>\n",
              "      <td>80.2200</td>\n",
              "      <td>2019-03-08</td>\n",
              "      <td>2021-06-21 10:29:00</td>\n",
              "      <td>Cash</td>\n",
              "      <td>76.40</td>\n",
              "      <td>4.761905</td>\n",
              "      <td>3.8200</td>\n",
              "      <td>9.6</td>\n",
              "      <td>8</td>\n",
              "      <td>3</td>\n",
              "      <td>2019</td>\n",
              "    </tr>\n",
              "    <tr>\n",
              "      <th>2</th>\n",
              "      <td>631-41-3108</td>\n",
              "      <td>A</td>\n",
              "      <td>Yangon</td>\n",
              "      <td>Normal</td>\n",
              "      <td>Male</td>\n",
              "      <td>Home and lifestyle</td>\n",
              "      <td>46.33</td>\n",
              "      <td>7</td>\n",
              "      <td>16.2155</td>\n",
              "      <td>340.5255</td>\n",
              "      <td>2019-03-03</td>\n",
              "      <td>2021-06-21 13:23:00</td>\n",
              "      <td>Credit card</td>\n",
              "      <td>324.31</td>\n",
              "      <td>4.761905</td>\n",
              "      <td>16.2155</td>\n",
              "      <td>7.4</td>\n",
              "      <td>3</td>\n",
              "      <td>3</td>\n",
              "      <td>2019</td>\n",
              "    </tr>\n",
              "    <tr>\n",
              "      <th>3</th>\n",
              "      <td>123-19-1176</td>\n",
              "      <td>A</td>\n",
              "      <td>Yangon</td>\n",
              "      <td>Member</td>\n",
              "      <td>Male</td>\n",
              "      <td>Health and beauty</td>\n",
              "      <td>58.22</td>\n",
              "      <td>8</td>\n",
              "      <td>23.2880</td>\n",
              "      <td>489.0480</td>\n",
              "      <td>2019-01-27</td>\n",
              "      <td>2021-06-21 20:33:00</td>\n",
              "      <td>Ewallet</td>\n",
              "      <td>465.76</td>\n",
              "      <td>4.761905</td>\n",
              "      <td>23.2880</td>\n",
              "      <td>8.4</td>\n",
              "      <td>27</td>\n",
              "      <td>1</td>\n",
              "      <td>2019</td>\n",
              "    </tr>\n",
              "    <tr>\n",
              "      <th>4</th>\n",
              "      <td>373-73-7910</td>\n",
              "      <td>A</td>\n",
              "      <td>Yangon</td>\n",
              "      <td>Normal</td>\n",
              "      <td>Male</td>\n",
              "      <td>Sports and travel</td>\n",
              "      <td>86.31</td>\n",
              "      <td>7</td>\n",
              "      <td>30.2085</td>\n",
              "      <td>634.3785</td>\n",
              "      <td>2019-02-08</td>\n",
              "      <td>2021-06-21 10:37:00</td>\n",
              "      <td>Ewallet</td>\n",
              "      <td>604.17</td>\n",
              "      <td>4.761905</td>\n",
              "      <td>30.2085</td>\n",
              "      <td>5.3</td>\n",
              "      <td>8</td>\n",
              "      <td>2</td>\n",
              "      <td>2019</td>\n",
              "    </tr>\n",
              "  </tbody>\n",
              "</table>\n",
              "</div>"
            ],
            "text/plain": [
              "    Invoice ID Branch       City Customer type  ... Rating day  month  year\n",
              "0  750-67-8428      A     Yangon        Member  ...    9.1   5      1  2019\n",
              "1  226-31-3081      C  Naypyitaw        Normal  ...    9.6   8      3  2019\n",
              "2  631-41-3108      A     Yangon        Normal  ...    7.4   3      3  2019\n",
              "3  123-19-1176      A     Yangon        Member  ...    8.4  27      1  2019\n",
              "4  373-73-7910      A     Yangon        Normal  ...    5.3   8      2  2019\n",
              "\n",
              "[5 rows x 20 columns]"
            ]
          },
          "metadata": {
            "tags": []
          },
          "execution_count": 33
        }
      ]
    },
    {
      "cell_type": "markdown",
      "metadata": {
        "id": "3qTYfd1SuKXT"
      },
      "source": [
        "# Describe Data"
      ]
    },
    {
      "cell_type": "code",
      "metadata": {
        "colab": {
          "base_uri": "https://localhost:8080/",
          "height": 297
        },
        "id": "iQQL0RXRbm58",
        "outputId": "c9e5ad74-82ef-4438-91a4-1f5f4d341827"
      },
      "source": [
        "df.describe()"
      ],
      "execution_count": 34,
      "outputs": [
        {
          "output_type": "execute_result",
          "data": {
            "text/html": [
              "<div>\n",
              "<style scoped>\n",
              "    .dataframe tbody tr th:only-of-type {\n",
              "        vertical-align: middle;\n",
              "    }\n",
              "\n",
              "    .dataframe tbody tr th {\n",
              "        vertical-align: top;\n",
              "    }\n",
              "\n",
              "    .dataframe thead th {\n",
              "        text-align: right;\n",
              "    }\n",
              "</style>\n",
              "<table border=\"1\" class=\"dataframe\">\n",
              "  <thead>\n",
              "    <tr style=\"text-align: right;\">\n",
              "      <th></th>\n",
              "      <th>Unit price</th>\n",
              "      <th>Quantity</th>\n",
              "      <th>Tax 5%</th>\n",
              "      <th>Total</th>\n",
              "      <th>cogs</th>\n",
              "      <th>gross margin percentage</th>\n",
              "      <th>gross income</th>\n",
              "      <th>Rating</th>\n",
              "      <th>day</th>\n",
              "      <th>month</th>\n",
              "      <th>year</th>\n",
              "    </tr>\n",
              "  </thead>\n",
              "  <tbody>\n",
              "    <tr>\n",
              "      <th>count</th>\n",
              "      <td>1000.000000</td>\n",
              "      <td>1000.000000</td>\n",
              "      <td>1000.000000</td>\n",
              "      <td>1000.000000</td>\n",
              "      <td>1000.00000</td>\n",
              "      <td>1.000000e+03</td>\n",
              "      <td>1000.000000</td>\n",
              "      <td>1000.00000</td>\n",
              "      <td>1000.000000</td>\n",
              "      <td>1000.000000</td>\n",
              "      <td>1000.0</td>\n",
              "    </tr>\n",
              "    <tr>\n",
              "      <th>mean</th>\n",
              "      <td>55.672130</td>\n",
              "      <td>5.510000</td>\n",
              "      <td>15.379369</td>\n",
              "      <td>322.966749</td>\n",
              "      <td>307.58738</td>\n",
              "      <td>4.761905e+00</td>\n",
              "      <td>15.379369</td>\n",
              "      <td>6.97270</td>\n",
              "      <td>15.256000</td>\n",
              "      <td>1.993000</td>\n",
              "      <td>2019.0</td>\n",
              "    </tr>\n",
              "    <tr>\n",
              "      <th>std</th>\n",
              "      <td>26.494628</td>\n",
              "      <td>2.923431</td>\n",
              "      <td>11.708825</td>\n",
              "      <td>245.885335</td>\n",
              "      <td>234.17651</td>\n",
              "      <td>6.220360e-14</td>\n",
              "      <td>11.708825</td>\n",
              "      <td>1.71858</td>\n",
              "      <td>8.693563</td>\n",
              "      <td>0.835254</td>\n",
              "      <td>0.0</td>\n",
              "    </tr>\n",
              "    <tr>\n",
              "      <th>min</th>\n",
              "      <td>10.080000</td>\n",
              "      <td>1.000000</td>\n",
              "      <td>0.508500</td>\n",
              "      <td>10.678500</td>\n",
              "      <td>10.17000</td>\n",
              "      <td>4.761905e+00</td>\n",
              "      <td>0.508500</td>\n",
              "      <td>4.00000</td>\n",
              "      <td>1.000000</td>\n",
              "      <td>1.000000</td>\n",
              "      <td>2019.0</td>\n",
              "    </tr>\n",
              "    <tr>\n",
              "      <th>25%</th>\n",
              "      <td>32.875000</td>\n",
              "      <td>3.000000</td>\n",
              "      <td>5.924875</td>\n",
              "      <td>124.422375</td>\n",
              "      <td>118.49750</td>\n",
              "      <td>4.761905e+00</td>\n",
              "      <td>5.924875</td>\n",
              "      <td>5.50000</td>\n",
              "      <td>8.000000</td>\n",
              "      <td>1.000000</td>\n",
              "      <td>2019.0</td>\n",
              "    </tr>\n",
              "    <tr>\n",
              "      <th>50%</th>\n",
              "      <td>55.230000</td>\n",
              "      <td>5.000000</td>\n",
              "      <td>12.088000</td>\n",
              "      <td>253.848000</td>\n",
              "      <td>241.76000</td>\n",
              "      <td>4.761905e+00</td>\n",
              "      <td>12.088000</td>\n",
              "      <td>7.00000</td>\n",
              "      <td>15.000000</td>\n",
              "      <td>2.000000</td>\n",
              "      <td>2019.0</td>\n",
              "    </tr>\n",
              "    <tr>\n",
              "      <th>75%</th>\n",
              "      <td>77.935000</td>\n",
              "      <td>8.000000</td>\n",
              "      <td>22.445250</td>\n",
              "      <td>471.350250</td>\n",
              "      <td>448.90500</td>\n",
              "      <td>4.761905e+00</td>\n",
              "      <td>22.445250</td>\n",
              "      <td>8.50000</td>\n",
              "      <td>23.000000</td>\n",
              "      <td>3.000000</td>\n",
              "      <td>2019.0</td>\n",
              "    </tr>\n",
              "    <tr>\n",
              "      <th>max</th>\n",
              "      <td>99.960000</td>\n",
              "      <td>10.000000</td>\n",
              "      <td>49.650000</td>\n",
              "      <td>1042.650000</td>\n",
              "      <td>993.00000</td>\n",
              "      <td>4.761905e+00</td>\n",
              "      <td>49.650000</td>\n",
              "      <td>10.00000</td>\n",
              "      <td>31.000000</td>\n",
              "      <td>3.000000</td>\n",
              "      <td>2019.0</td>\n",
              "    </tr>\n",
              "  </tbody>\n",
              "</table>\n",
              "</div>"
            ],
            "text/plain": [
              "        Unit price     Quantity       Tax 5%  ...          day        month    year\n",
              "count  1000.000000  1000.000000  1000.000000  ...  1000.000000  1000.000000  1000.0\n",
              "mean     55.672130     5.510000    15.379369  ...    15.256000     1.993000  2019.0\n",
              "std      26.494628     2.923431    11.708825  ...     8.693563     0.835254     0.0\n",
              "min      10.080000     1.000000     0.508500  ...     1.000000     1.000000  2019.0\n",
              "25%      32.875000     3.000000     5.924875  ...     8.000000     1.000000  2019.0\n",
              "50%      55.230000     5.000000    12.088000  ...    15.000000     2.000000  2019.0\n",
              "75%      77.935000     8.000000    22.445250  ...    23.000000     3.000000  2019.0\n",
              "max      99.960000    10.000000    49.650000  ...    31.000000     3.000000  2019.0\n",
              "\n",
              "[8 rows x 11 columns]"
            ]
          },
          "metadata": {
            "tags": []
          },
          "execution_count": 34
        }
      ]
    },
    {
      "cell_type": "markdown",
      "metadata": {
        "id": "0Tv0CQ7vb0Sk"
      },
      "source": [
        "# Separating Numerical and Categorical Variables"
      ]
    },
    {
      "cell_type": "code",
      "metadata": {
        "id": "Peoaics3bzwc"
      },
      "source": [
        "categorical=[x for x in df.columns if df[x].dtype==\"O\"]\n",
        "numerical = [x for x in df.columns if x not in categorical]"
      ],
      "execution_count": 35,
      "outputs": []
    },
    {
      "cell_type": "code",
      "metadata": {
        "colab": {
          "base_uri": "https://localhost:8080/"
        },
        "id": "5dBuJNK8cV52",
        "outputId": "6a21601f-15e0-4c52-80e3-20fe5728470d"
      },
      "source": [
        "categorical"
      ],
      "execution_count": 36,
      "outputs": [
        {
          "output_type": "execute_result",
          "data": {
            "text/plain": [
              "['Invoice ID',\n",
              " 'Branch',\n",
              " 'City',\n",
              " 'Customer type',\n",
              " 'Gender',\n",
              " 'Product line',\n",
              " 'Payment']"
            ]
          },
          "metadata": {
            "tags": []
          },
          "execution_count": 36
        }
      ]
    },
    {
      "cell_type": "code",
      "metadata": {
        "colab": {
          "base_uri": "https://localhost:8080/"
        },
        "id": "ccE2SQO7cX7z",
        "outputId": "7acd57c8-7c99-48aa-f5ff-0a1cdd7f17ee"
      },
      "source": [
        "numerical"
      ],
      "execution_count": 37,
      "outputs": [
        {
          "output_type": "execute_result",
          "data": {
            "text/plain": [
              "['Unit price',\n",
              " 'Quantity',\n",
              " 'Tax 5%',\n",
              " 'Total',\n",
              " 'Date',\n",
              " 'Time',\n",
              " 'cogs',\n",
              " 'gross margin percentage',\n",
              " 'gross income',\n",
              " 'Rating',\n",
              " 'day',\n",
              " 'month',\n",
              " 'year']"
            ]
          },
          "metadata": {
            "tags": []
          },
          "execution_count": 37
        }
      ]
    },
    {
      "cell_type": "markdown",
      "metadata": {
        "id": "p61sLNSUbdJD"
      },
      "source": [
        "# Remove Outliers"
      ]
    },
    {
      "cell_type": "code",
      "metadata": {
        "colab": {
          "base_uri": "https://localhost:8080/",
          "height": 1000
        },
        "id": "tgJt8zXHbvoL",
        "outputId": "ec6ef1c0-e80a-431c-d889-8158af176d58"
      },
      "source": [
        "for i in numerical:\n",
        "  if i in {'Date','Time','day','month','year','Tax 5%','cogs','gross margin percentage'}:\n",
        "    continue\n",
        "  plt.title(i)\n",
        "  sns.boxplot(x = df[i])\n",
        "  plt.show()"
      ],
      "execution_count": 39,
      "outputs": [
        {
          "output_type": "display_data",
          "data": {
            "image/png": "[encoded data removed]",
            "text/plain": [
              "<Figure size 432x288 with 1 Axes>"
            ]
          },
          "metadata": {
            "tags": [],
            "needs_background": "light"
          }
        },
        {
          "output_type": "display_data",
          "data": {
            "image/png": "[encoded data removed]",
            "text/plain": [
              "<Figure size 432x288 with 1 Axes>"
            ]
          },
          "metadata": {
            "tags": [],
            "needs_background": "light"
          }
        },
        {
          "output_type": "display_data",
          "data": {
            "image/png": "[encoded data removed]",
            "text/plain": [
              "<Figure size 432x288 with 1 Axes>"
            ]
          },
          "metadata": {
            "tags": [],
            "needs_background": "light"
          }
        },
        {
          "output_type": "display_data",
          "data": {
            "image/png": "[encoded data removed]",
            "text/plain": [
              "<Figure size 432x288 with 1 Axes>"
            ]
          },
          "metadata": {
            "tags": [],
            "needs_background": "light"
          }
        },
        {
          "output_type": "display_data",
          "data": {
            "image/png": "[encoded data removed]",
            "text/plain": [
              "<Figure size 432x288 with 1 Axes>"
            ]
          },
          "metadata": {
            "tags": [],
            "needs_background": "light"
          }
        }
      ]
    },
    {
      "cell_type": "code",
      "metadata": {
        "id": "S4zDDnotbcWD"
      },
      "source": [
        "q25, q50 = np.percentile(df['cogs'],25), np.percentile(df['cogs'],75)\n",
        "iqr = q50 - q25\n",
        "limit = 1.5*iqr\n",
        "upper_limit, lower_limit = q50 + limit, q25 - limit\n",
        "df = df[(df['cogs']>= lower_limit) & (df['cogs']<=upper_limit)]"
      ],
      "execution_count": 40,
      "outputs": []
    },
    {
      "cell_type": "code",
      "metadata": {
        "colab": {
          "base_uri": "https://localhost:8080/",
          "height": 1000
        },
        "id": "Yj_fq0gXdOTF",
        "outputId": "079c85f3-6179-4809-9dc3-87e8e6917aac"
      },
      "source": [
        "for i in numerical:\n",
        "  if i in {'Date','Time','day','month','year','Tax 5%','cogs','gross margin percentage'}:\n",
        "    continue\n",
        "  plt.title(i)\n",
        "  sns.boxplot(x = df[i])\n",
        "  plt.show()"
      ],
      "execution_count": 41,
      "outputs": [
        {
          "output_type": "display_data",
          "data": {
            "image/png": "[encoded data removed]",
            "text/plain": [
              "<Figure size 432x288 with 1 Axes>"
            ]
          },
          "metadata": {
            "tags": [],
            "needs_background": "light"
          }
        },
        {
          "output_type": "display_data",
          "data": {
            "image/png": "[encoded data removed]",
            "text/plain": [
              "<Figure size 432x288 with 1 Axes>"
            ]
          },
          "metadata": {
            "tags": [],
            "needs_background": "light"
          }
        },
        {
          "output_type": "display_data",
          "data": {
            "image/png": "[encoded data removed]",
            "text/plain": [
              "<Figure size 432x288 with 1 Axes>"
            ]
          },
          "metadata": {
            "tags": [],
            "needs_background": "light"
          }
        },
        {
          "output_type": "display_data",
          "data": {
            "image/png": "[encoded data removed]",
            "text/plain": [
              "<Figure size 432x288 with 1 Axes>"
            ]
          },
          "metadata": {
            "tags": [],
            "needs_background": "light"
          }
        },
        {
          "output_type": "display_data",
          "data": {
            "image/png": "[encoded data removed]",
            "text/plain": [
              "<Figure size 432x288 with 1 Axes>"
            ]
          },
          "metadata": {
            "tags": [],
            "needs_background": "light"
          }
        }
      ]
    },
    {
      "cell_type": "markdown",
      "metadata": {
        "id": "vKY_CiPLYlUM"
      },
      "source": [
        "# Compare gross income for each month"
      ]
    },
    {
      "cell_type": "code",
      "metadata": {
        "colab": {
          "base_uri": "https://localhost:8080/"
        },
        "id": "AegZ77SLae02",
        "outputId": "322ddc1c-3949-49e3-aada-94430d933b27"
      },
      "source": [
        "df.groupby(['month'],sort = True)['gross income'].agg(\"sum\")"
      ],
      "execution_count": 42,
      "outputs": [
        {
          "output_type": "execute_result",
          "data": {
            "text/plain": [
              "month\n",
              "1    5295.503\n",
              "2    4481.749\n",
              "3    5163.477\n",
              "Name: gross income, dtype: float64"
            ]
          },
          "metadata": {
            "tags": []
          },
          "execution_count": 42
        }
      ]
    },
    {
      "cell_type": "code",
      "metadata": {
        "colab": {
          "base_uri": "https://localhost:8080/"
        },
        "id": "QG7jSNWdvaEq",
        "outputId": "48fc104e-2b78-4ab7-cfb9-778313f642bd"
      },
      "source": [
        "df.groupby(['month'])['gross income'].count()"
      ],
      "execution_count": 92,
      "outputs": [
        {
          "output_type": "execute_result",
          "data": {
            "text/plain": [
              "month\n",
              "1    347\n",
              "2    300\n",
              "3    344\n",
              "Name: gross income, dtype: int64"
            ]
          },
          "metadata": {
            "tags": []
          },
          "execution_count": 92
        }
      ]
    },
    {
      "cell_type": "code",
      "metadata": {
        "colab": {
          "base_uri": "https://localhost:8080/",
          "height": 293
        },
        "id": "l60oQQCibHHe",
        "outputId": "a4bb6993-77f7-4e3c-b77c-366a13e5b37c"
      },
      "source": [
        "df.groupby(['month'],sort = True)['gross income'].agg(\"sum\").plot(kind = \"bar\")"
      ],
      "execution_count": 43,
      "outputs": [
        {
          "output_type": "execute_result",
          "data": {
            "text/plain": [
              "<matplotlib.axes._subplots.AxesSubplot at 0x7f39eba0fdd0>"
            ]
          },
          "metadata": {
            "tags": []
          },
          "execution_count": 43
        },
        {
          "output_type": "display_data",
          "data": {
            "image/png": "[encoded data removed]",
            "text/plain": [
              "<Figure size 432x288 with 1 Axes>"
            ]
          },
          "metadata": {
            "tags": [],
            "needs_background": "light"
          }
        }
      ]
    },
    {
      "cell_type": "code",
      "metadata": {
        "colab": {
          "base_uri": "https://localhost:8080/",
          "height": 331
        },
        "id": "cCA0S24vYnA8",
        "outputId": "fd367a8e-5fc9-4acf-c80d-68266cba11d9"
      },
      "source": [
        "df.groupby(['Date'],sort = True)['gross income'].agg(\"sum\").plot(kind = \"line\")"
      ],
      "execution_count": 67,
      "outputs": [
        {
          "output_type": "execute_result",
          "data": {
            "text/plain": [
              "<matplotlib.axes._subplots.AxesSubplot at 0x7f39eb3c03d0>"
            ]
          },
          "metadata": {
            "tags": []
          },
          "execution_count": 67
        },
        {
          "output_type": "display_data",
          "data": {
            "image/png": "[encoded data removed]",
            "text/plain": [
              "<Figure size 432x288 with 1 Axes>"
            ]
          },
          "metadata": {
            "tags": [],
            "needs_background": "light"
          }
        }
      ]
    },
    {
      "cell_type": "code",
      "metadata": {
        "colab": {
          "base_uri": "https://localhost:8080/",
          "height": 297
        },
        "id": "97r1heJDwNpR",
        "outputId": "e24d24d2-b5ca-479d-df9c-558cbe1eac14"
      },
      "source": [
        "plt.title('Month')\n",
        "sns.countplot(x = df['month'])\n",
        "plt.xticks(rotation = 45)\n",
        "plt.show()"
      ],
      "execution_count": 93,
      "outputs": [
        {
          "output_type": "display_data",
          "data": {
            "image/png": "[encoded data removed]",
            "text/plain": [
              "<Figure size 432x288 with 1 Axes>"
            ]
          },
          "metadata": {
            "tags": [],
            "needs_background": "light"
          }
        }
      ]
    },
    {
      "cell_type": "markdown",
      "metadata": {
        "id": "QXokvB2TdedE"
      },
      "source": [
        "# Compare product's gross income over city, gender and Customer type"
      ]
    },
    {
      "cell_type": "markdown",
      "metadata": {
        "id": "kEglLHgDx6HZ"
      },
      "source": [
        "**Product's gross income over City**"
      ]
    },
    {
      "cell_type": "code",
      "metadata": {
        "colab": {
          "base_uri": "https://localhost:8080/",
          "height": 266
        },
        "id": "ZRhKjxLdw_4C",
        "outputId": "cbc85e3c-5067-444c-a476-8979f69aadac"
      },
      "source": [
        "df.groupby(['Product line','City'])['gross income'].agg('sum').unstack()"
      ],
      "execution_count": 98,
      "outputs": [
        {
          "output_type": "execute_result",
          "data": {
            "text/html": [
              "<div>\n",
              "<style scoped>\n",
              "    .dataframe tbody tr th:only-of-type {\n",
              "        vertical-align: middle;\n",
              "    }\n",
              "\n",
              "    .dataframe tbody tr th {\n",
              "        vertical-align: top;\n",
              "    }\n",
              "\n",
              "    .dataframe thead th {\n",
              "        text-align: right;\n",
              "    }\n",
              "</style>\n",
              "<table border=\"1\" class=\"dataframe\">\n",
              "  <thead>\n",
              "    <tr style=\"text-align: right;\">\n",
              "      <th>City</th>\n",
              "      <th>Mandalay</th>\n",
              "      <th>Naypyitaw</th>\n",
              "      <th>Yangon</th>\n",
              "    </tr>\n",
              "    <tr>\n",
              "      <th>Product line</th>\n",
              "      <th></th>\n",
              "      <th></th>\n",
              "      <th></th>\n",
              "    </tr>\n",
              "  </thead>\n",
              "  <tbody>\n",
              "    <tr>\n",
              "      <th>Electronic accessories</th>\n",
              "      <td>811.9735</td>\n",
              "      <td>903.2845</td>\n",
              "      <td>872.2435</td>\n",
              "    </tr>\n",
              "    <tr>\n",
              "      <th>Fashion accessories</th>\n",
              "      <td>781.5865</td>\n",
              "      <td>928.4150</td>\n",
              "      <td>728.2485</td>\n",
              "    </tr>\n",
              "    <tr>\n",
              "      <th>Food and beverages</th>\n",
              "      <td>724.5185</td>\n",
              "      <td>1082.4950</td>\n",
              "      <td>817.2905</td>\n",
              "    </tr>\n",
              "    <tr>\n",
              "      <th>Health and beauty</th>\n",
              "      <td>951.4600</td>\n",
              "      <td>791.2060</td>\n",
              "      <td>599.8930</td>\n",
              "    </tr>\n",
              "    <tr>\n",
              "      <th>Home and lifestyle</th>\n",
              "      <td>738.2995</td>\n",
              "      <td>565.1530</td>\n",
              "      <td>1067.4855</td>\n",
              "    </tr>\n",
              "    <tr>\n",
              "      <th>Sports and travel</th>\n",
              "      <td>951.8190</td>\n",
              "      <td>702.8480</td>\n",
              "      <td>922.5095</td>\n",
              "    </tr>\n",
              "  </tbody>\n",
              "</table>\n",
              "</div>"
            ],
            "text/plain": [
              "City                    Mandalay  Naypyitaw     Yangon\n",
              "Product line                                          \n",
              "Electronic accessories  811.9735   903.2845   872.2435\n",
              "Fashion accessories     781.5865   928.4150   728.2485\n",
              "Food and beverages      724.5185  1082.4950   817.2905\n",
              "Health and beauty       951.4600   791.2060   599.8930\n",
              "Home and lifestyle      738.2995   565.1530  1067.4855\n",
              "Sports and travel       951.8190   702.8480   922.5095"
            ]
          },
          "metadata": {
            "tags": []
          },
          "execution_count": 98
        }
      ]
    },
    {
      "cell_type": "code",
      "metadata": {
        "colab": {
          "base_uri": "https://localhost:8080/",
          "height": 397
        },
        "id": "RP0XEHKOwlgt",
        "outputId": "0b6b323c-416c-424e-d579-b0d9b33bc790"
      },
      "source": [
        "df.groupby(['Product line','City'])['gross income'].agg('sum').unstack().plot(kind = \"bar\")"
      ],
      "execution_count": 94,
      "outputs": [
        {
          "output_type": "execute_result",
          "data": {
            "text/plain": [
              "<matplotlib.axes._subplots.AxesSubplot at 0x7f39ead11990>"
            ]
          },
          "metadata": {
            "tags": []
          },
          "execution_count": 94
        },
        {
          "output_type": "display_data",
          "data": {
            "image/png": "[encoded data removed]",
            "text/plain": [
              "<Figure size 432x288 with 1 Axes>"
            ]
          },
          "metadata": {
            "tags": [],
            "needs_background": "light"
          }
        }
      ]
    },
    {
      "cell_type": "markdown",
      "metadata": {
        "id": "DnSVZo-ay5Ba"
      },
      "source": [
        "In **Naypitaw** city, **Food and beverages** are highly popular.<br>\n",
        "In **Yangon** city,  **Home and Lifestyle** products are more popular.<br>\n",
        "In **Mandalay** city, **Health and Beauty** and ** Sports and travel  ** products are equally popular."
      ]
    },
    {
      "cell_type": "markdown",
      "metadata": {
        "id": "jcDlPZh0yFZB"
      },
      "source": [
        "**Product's gross income over Gender**"
      ]
    },
    {
      "cell_type": "code",
      "metadata": {
        "colab": {
          "base_uri": "https://localhost:8080/",
          "height": 266
        },
        "id": "AdwaI6MOw6RB",
        "outputId": "ec0b1143-9880-4551-f1b4-4528ee412422"
      },
      "source": [
        "df.groupby(['Product line','Gender'])['gross income'].agg('sum').unstack()"
      ],
      "execution_count": 106,
      "outputs": [
        {
          "output_type": "execute_result",
          "data": {
            "text/html": [
              "<div>\n",
              "<style scoped>\n",
              "    .dataframe tbody tr th:only-of-type {\n",
              "        vertical-align: middle;\n",
              "    }\n",
              "\n",
              "    .dataframe tbody tr th {\n",
              "        vertical-align: top;\n",
              "    }\n",
              "\n",
              "    .dataframe thead th {\n",
              "        text-align: right;\n",
              "    }\n",
              "</style>\n",
              "<table border=\"1\" class=\"dataframe\">\n",
              "  <thead>\n",
              "    <tr style=\"text-align: right;\">\n",
              "      <th>Gender</th>\n",
              "      <th>Female</th>\n",
              "      <th>Male</th>\n",
              "    </tr>\n",
              "    <tr>\n",
              "      <th>Product line</th>\n",
              "      <th></th>\n",
              "      <th></th>\n",
              "    </tr>\n",
              "  </thead>\n",
              "  <tbody>\n",
              "    <tr>\n",
              "      <th>Electronic accessories</th>\n",
              "      <td>1290.5725</td>\n",
              "      <td>1296.9290</td>\n",
              "    </tr>\n",
              "    <tr>\n",
              "      <th>Fashion accessories</th>\n",
              "      <td>1351.1450</td>\n",
              "      <td>1087.1050</td>\n",
              "    </tr>\n",
              "    <tr>\n",
              "      <th>Food and beverages</th>\n",
              "      <td>1530.3075</td>\n",
              "      <td>1093.9965</td>\n",
              "    </tr>\n",
              "    <tr>\n",
              "      <th>Health and beauty</th>\n",
              "      <td>883.8565</td>\n",
              "      <td>1458.7025</td>\n",
              "    </tr>\n",
              "    <tr>\n",
              "      <th>Home and lifestyle</th>\n",
              "      <td>1332.9525</td>\n",
              "      <td>1037.9855</td>\n",
              "    </tr>\n",
              "    <tr>\n",
              "      <th>Sports and travel</th>\n",
              "      <td>1312.9810</td>\n",
              "      <td>1264.1955</td>\n",
              "    </tr>\n",
              "  </tbody>\n",
              "</table>\n",
              "</div>"
            ],
            "text/plain": [
              "Gender                     Female       Male\n",
              "Product line                                \n",
              "Electronic accessories  1290.5725  1296.9290\n",
              "Fashion accessories     1351.1450  1087.1050\n",
              "Food and beverages      1530.3075  1093.9965\n",
              "Health and beauty        883.8565  1458.7025\n",
              "Home and lifestyle      1332.9525  1037.9855\n",
              "Sports and travel       1312.9810  1264.1955"
            ]
          },
          "metadata": {
            "tags": []
          },
          "execution_count": 106
        }
      ]
    },
    {
      "cell_type": "code",
      "metadata": {
        "colab": {
          "base_uri": "https://localhost:8080/",
          "height": 400
        },
        "id": "FKAx-AZCwu76",
        "outputId": "6e69357b-531a-4122-e5a4-ecdf455c71fe"
      },
      "source": [
        "df.groupby(['Product line','Gender'])['gross income'].agg('sum').unstack().plot(kind = \"bar\")"
      ],
      "execution_count": 103,
      "outputs": [
        {
          "output_type": "execute_result",
          "data": {
            "text/plain": [
              "<matplotlib.axes._subplots.AxesSubplot at 0x7f39eab23fd0>"
            ]
          },
          "metadata": {
            "tags": []
          },
          "execution_count": 103
        },
        {
          "output_type": "display_data",
          "data": {
            "image/png": "[encoded data removed]",
            "text/plain": [
              "<Figure size 432x288 with 1 Axes>"
            ]
          },
          "metadata": {
            "tags": [],
            "needs_background": "light"
          }
        }
      ]
    },
    {
      "cell_type": "markdown",
      "metadata": {
        "id": "ZkWk7ZVO1ThJ"
      },
      "source": [
        "From the above graph we can see that the **Health and beauty products are more popular in Male than in Female**.<br>Also, **Females purchase more Food and beverages.**"
      ]
    },
    {
      "cell_type": "markdown",
      "metadata": {
        "id": "MXkoWvcE0fye"
      },
      "source": [
        "**Product's gross income over Customer type**"
      ]
    },
    {
      "cell_type": "code",
      "metadata": {
        "colab": {
          "base_uri": "https://localhost:8080/",
          "height": 266
        },
        "id": "ryuIj052xWUK",
        "outputId": "d32497ad-60da-45b0-ab8a-d398cd7549ca"
      },
      "source": [
        "df.groupby(['Product line','Customer type'])['gross income'].agg('sum').unstack()"
      ],
      "execution_count": 104,
      "outputs": [
        {
          "output_type": "execute_result",
          "data": {
            "text/html": [
              "<div>\n",
              "<style scoped>\n",
              "    .dataframe tbody tr th:only-of-type {\n",
              "        vertical-align: middle;\n",
              "    }\n",
              "\n",
              "    .dataframe tbody tr th {\n",
              "        vertical-align: top;\n",
              "    }\n",
              "\n",
              "    .dataframe thead th {\n",
              "        text-align: right;\n",
              "    }\n",
              "</style>\n",
              "<table border=\"1\" class=\"dataframe\">\n",
              "  <thead>\n",
              "    <tr style=\"text-align: right;\">\n",
              "      <th>Customer type</th>\n",
              "      <th>Member</th>\n",
              "      <th>Normal</th>\n",
              "    </tr>\n",
              "    <tr>\n",
              "      <th>Product line</th>\n",
              "      <th></th>\n",
              "      <th></th>\n",
              "    </tr>\n",
              "  </thead>\n",
              "  <tbody>\n",
              "    <tr>\n",
              "      <th>Electronic accessories</th>\n",
              "      <td>1166.5950</td>\n",
              "      <td>1420.9065</td>\n",
              "    </tr>\n",
              "    <tr>\n",
              "      <th>Fashion accessories</th>\n",
              "      <td>1155.2670</td>\n",
              "      <td>1282.9830</td>\n",
              "    </tr>\n",
              "    <tr>\n",
              "      <th>Food and beverages</th>\n",
              "      <td>1443.9600</td>\n",
              "      <td>1180.3440</td>\n",
              "    </tr>\n",
              "    <tr>\n",
              "      <th>Health and beauty</th>\n",
              "      <td>1230.0495</td>\n",
              "      <td>1112.5095</td>\n",
              "    </tr>\n",
              "    <tr>\n",
              "      <th>Home and lifestyle</th>\n",
              "      <td>1332.2870</td>\n",
              "      <td>1038.6510</td>\n",
              "    </tr>\n",
              "    <tr>\n",
              "      <th>Sports and travel</th>\n",
              "      <td>1344.4905</td>\n",
              "      <td>1232.6860</td>\n",
              "    </tr>\n",
              "  </tbody>\n",
              "</table>\n",
              "</div>"
            ],
            "text/plain": [
              "Customer type              Member     Normal\n",
              "Product line                                \n",
              "Electronic accessories  1166.5950  1420.9065\n",
              "Fashion accessories     1155.2670  1282.9830\n",
              "Food and beverages      1443.9600  1180.3440\n",
              "Health and beauty       1230.0495  1112.5095\n",
              "Home and lifestyle      1332.2870  1038.6510\n",
              "Sports and travel       1344.4905  1232.6860"
            ]
          },
          "metadata": {
            "tags": []
          },
          "execution_count": 104
        }
      ]
    },
    {
      "cell_type": "code",
      "metadata": {
        "colab": {
          "base_uri": "https://localhost:8080/",
          "height": 397
        },
        "id": "vBmjq4ulxUo5",
        "outputId": "4b8dc4eb-b6ee-4275-82aa-0dbce38cae77"
      },
      "source": [
        "df.groupby(['Product line','Customer type'])['gross income'].agg('sum').unstack().plot(kind = \"bar\")"
      ],
      "execution_count": 105,
      "outputs": [
        {
          "output_type": "execute_result",
          "data": {
            "text/plain": [
              "<matplotlib.axes._subplots.AxesSubplot at 0x7f39eaa44510>"
            ]
          },
          "metadata": {
            "tags": []
          },
          "execution_count": 105
        },
        {
          "output_type": "display_data",
          "data": {
            "image/png": "[encoded data removed]",
            "text/plain": [
              "<Figure size 432x288 with 1 Axes>"
            ]
          },
          "metadata": {
            "tags": [],
            "needs_background": "light"
          }
        }
      ]
    },
    {
      "cell_type": "markdown",
      "metadata": {
        "id": "Cnjb24Zv17iq"
      },
      "source": [
        "Other than Electronic accessories and Fashion accessories, Member customer type provides more gross income in all product lines.<br>Food and beverages is the highest of all.<br>Also we can observe **non member customers has generated more gross income in electronic accessories** than most of the product lines"
      ]
    },
    {
      "cell_type": "code",
      "metadata": {
        "colab": {
          "base_uri": "https://localhost:8080/"
        },
        "id": "7E6zT6jjhCkA",
        "outputId": "a2da27f5-f129-43a0-d67c-7627d84ea726"
      },
      "source": [
        "df.groupby(['Product line'])['gross income'].agg('sum')"
      ],
      "execution_count": 73,
      "outputs": [
        {
          "output_type": "execute_result",
          "data": {
            "text/plain": [
              "Product line\n",
              "Electronic accessories    2587.5015\n",
              "Fashion accessories       2438.2500\n",
              "Food and beverages        2624.3040\n",
              "Health and beauty         2342.5590\n",
              "Home and lifestyle        2370.9380\n",
              "Sports and travel         2577.1765\n",
              "Name: gross income, dtype: float64"
            ]
          },
          "metadata": {
            "tags": []
          },
          "execution_count": 73
        }
      ]
    },
    {
      "cell_type": "code",
      "metadata": {
        "colab": {
          "base_uri": "https://localhost:8080/",
          "height": 397
        },
        "id": "JfWZOPxxdjqc",
        "outputId": "92281720-8875-4828-d8fd-84033cb61d3b"
      },
      "source": [
        "df.groupby(['Product line'])['gross income'].agg('sum').plot(kind = \"bar\")"
      ],
      "execution_count": 88,
      "outputs": [
        {
          "output_type": "execute_result",
          "data": {
            "text/plain": [
              "<matplotlib.axes._subplots.AxesSubplot at 0x7f39eb1c8590>"
            ]
          },
          "metadata": {
            "tags": []
          },
          "execution_count": 88
        },
        {
          "output_type": "display_data",
          "data": {
            "image/png": "[encoded data removed]",
            "text/plain": [
              "<Figure size 432x288 with 1 Axes>"
            ]
          },
          "metadata": {
            "tags": [],
            "needs_background": "light"
          }
        }
      ]
    },
    {
      "cell_type": "markdown",
      "metadata": {
        "id": "2vMoMoJZv9Q5"
      },
      "source": [
        "Food and beverages generated more gross income."
      ]
    },
    {
      "cell_type": "markdown",
      "metadata": {
        "id": "8WgTvFGKlUvV"
      },
      "source": [
        "# Compare Profits of each City"
      ]
    },
    {
      "cell_type": "code",
      "metadata": {
        "colab": {
          "base_uri": "https://localhost:8080/"
        },
        "id": "ChIUxG3i2vny",
        "outputId": "8d4c079b-ab6d-45cf-d422-89b7d0710281"
      },
      "source": [
        "df.groupby(['City'])['gross income'].agg('sum')"
      ],
      "execution_count": 108,
      "outputs": [
        {
          "output_type": "execute_result",
          "data": {
            "text/plain": [
              "City\n",
              "Mandalay     4959.6570\n",
              "Naypyitaw    4973.4015\n",
              "Yangon       5007.6705\n",
              "Name: gross income, dtype: float64"
            ]
          },
          "metadata": {
            "tags": []
          },
          "execution_count": 108
        }
      ]
    },
    {
      "cell_type": "code",
      "metadata": {
        "colab": {
          "base_uri": "https://localhost:8080/",
          "height": 265
        },
        "id": "WEsLyOL5lXf9",
        "outputId": "bd77d96d-1ec8-40bc-fc9a-38d0971badf2"
      },
      "source": [
        "df.groupby(['City'])['gross income'].agg('sum').plot(kind = \"pie\")"
      ],
      "execution_count": 91,
      "outputs": [
        {
          "output_type": "execute_result",
          "data": {
            "text/plain": [
              "<matplotlib.axes._subplots.AxesSubplot at 0x7f39eb6e11d0>"
            ]
          },
          "metadata": {
            "tags": []
          },
          "execution_count": 91
        },
        {
          "output_type": "display_data",
          "data": {
            "image/png": "[encoded data removed]",
            "text/plain": [
              "<Figure size 432x288 with 1 Axes>"
            ]
          },
          "metadata": {
            "tags": []
          }
        }
      ]
    },
    {
      "cell_type": "markdown",
      "metadata": {
        "id": "KM0-YrYx33Ix"
      },
      "source": [
        "# Compare customers payment preference"
      ]
    },
    {
      "cell_type": "code",
      "metadata": {
        "colab": {
          "base_uri": "https://localhost:8080/",
          "height": 173
        },
        "id": "uhDQx9_R37OI",
        "outputId": "ad4a7a96-f3db-40db-b9b8-acd36fc22cd9"
      },
      "source": [
        "df.groupby(['Payment','Gender'])['gross income'].count().unstack()"
      ],
      "execution_count": 109,
      "outputs": [
        {
          "output_type": "execute_result",
          "data": {
            "text/html": [
              "<div>\n",
              "<style scoped>\n",
              "    .dataframe tbody tr th:only-of-type {\n",
              "        vertical-align: middle;\n",
              "    }\n",
              "\n",
              "    .dataframe tbody tr th {\n",
              "        vertical-align: top;\n",
              "    }\n",
              "\n",
              "    .dataframe thead th {\n",
              "        text-align: right;\n",
              "    }\n",
              "</style>\n",
              "<table border=\"1\" class=\"dataframe\">\n",
              "  <thead>\n",
              "    <tr style=\"text-align: right;\">\n",
              "      <th>Gender</th>\n",
              "      <th>Female</th>\n",
              "      <th>Male</th>\n",
              "    </tr>\n",
              "    <tr>\n",
              "      <th>Payment</th>\n",
              "      <th></th>\n",
              "      <th></th>\n",
              "    </tr>\n",
              "  </thead>\n",
              "  <tbody>\n",
              "    <tr>\n",
              "      <th>Cash</th>\n",
              "      <td>177</td>\n",
              "      <td>165</td>\n",
              "    </tr>\n",
              "    <tr>\n",
              "      <th>Credit card</th>\n",
              "      <td>160</td>\n",
              "      <td>147</td>\n",
              "    </tr>\n",
              "    <tr>\n",
              "      <th>Ewallet</th>\n",
              "      <td>158</td>\n",
              "      <td>184</td>\n",
              "    </tr>\n",
              "  </tbody>\n",
              "</table>\n",
              "</div>"
            ],
            "text/plain": [
              "Gender       Female  Male\n",
              "Payment                  \n",
              "Cash            177   165\n",
              "Credit card     160   147\n",
              "Ewallet         158   184"
            ]
          },
          "metadata": {
            "tags": []
          },
          "execution_count": 109
        }
      ]
    },
    {
      "cell_type": "code",
      "metadata": {
        "colab": {
          "base_uri": "https://localhost:8080/",
          "height": 173
        },
        "id": "jxc9iStg46Ag",
        "outputId": "58cd49fe-3dfd-46dd-8e30-e62f480b5805"
      },
      "source": [
        "df.groupby(['Payment','Gender'])['gross income'].agg('sum').unstack()"
      ],
      "execution_count": 113,
      "outputs": [
        {
          "output_type": "execute_result",
          "data": {
            "text/html": [
              "<div>\n",
              "<style scoped>\n",
              "    .dataframe tbody tr th:only-of-type {\n",
              "        vertical-align: middle;\n",
              "    }\n",
              "\n",
              "    .dataframe tbody tr th {\n",
              "        vertical-align: top;\n",
              "    }\n",
              "\n",
              "    .dataframe thead th {\n",
              "        text-align: right;\n",
              "    }\n",
              "</style>\n",
              "<table border=\"1\" class=\"dataframe\">\n",
              "  <thead>\n",
              "    <tr style=\"text-align: right;\">\n",
              "      <th>Gender</th>\n",
              "      <th>Female</th>\n",
              "      <th>Male</th>\n",
              "    </tr>\n",
              "    <tr>\n",
              "      <th>Payment</th>\n",
              "      <th></th>\n",
              "      <th></th>\n",
              "    </tr>\n",
              "  </thead>\n",
              "  <tbody>\n",
              "    <tr>\n",
              "      <th>Cash</th>\n",
              "      <td>2786.290</td>\n",
              "      <td>2461.370</td>\n",
              "    </tr>\n",
              "    <tr>\n",
              "      <th>Credit card</th>\n",
              "      <td>2400.605</td>\n",
              "      <td>2201.397</td>\n",
              "    </tr>\n",
              "    <tr>\n",
              "      <th>Ewallet</th>\n",
              "      <td>2514.920</td>\n",
              "      <td>2576.147</td>\n",
              "    </tr>\n",
              "  </tbody>\n",
              "</table>\n",
              "</div>"
            ],
            "text/plain": [
              "Gender         Female      Male\n",
              "Payment                        \n",
              "Cash         2786.290  2461.370\n",
              "Credit card  2400.605  2201.397\n",
              "Ewallet      2514.920  2576.147"
            ]
          },
          "metadata": {
            "tags": []
          },
          "execution_count": 113
        }
      ]
    },
    {
      "cell_type": "code",
      "metadata": {
        "colab": {
          "base_uri": "https://localhost:8080/",
          "height": 341
        },
        "id": "WEMne9b14ZQn",
        "outputId": "49030d2c-b77f-4997-ceb1-55fef2955928"
      },
      "source": [
        "df.groupby(['Payment','Gender'])['gross income'].agg('sum').unstack().plot(kind = \"bar\")"
      ],
      "execution_count": 112,
      "outputs": [
        {
          "output_type": "execute_result",
          "data": {
            "text/plain": [
              "<matplotlib.axes._subplots.AxesSubplot at 0x7f39ea95bf90>"
            ]
          },
          "metadata": {
            "tags": []
          },
          "execution_count": 112
        },
        {
          "output_type": "display_data",
          "data": {
            "image/png": "[encoded data removed]",
            "text/plain": [
              "<Figure size 432x288 with 1 Axes>"
            ]
          },
          "metadata": {
            "tags": [],
            "needs_background": "light"
          }
        }
      ]
    },
    {
      "cell_type": "code",
      "metadata": {
        "colab": {
          "base_uri": "https://localhost:8080/",
          "height": 341
        },
        "id": "CGzEBRBv5kS0",
        "outputId": "8c342311-eeac-48ac-c253-4b66743aa44c"
      },
      "source": [
        "df.groupby(['Payment','Gender'])['gross income'].agg('mean').unstack().plot(kind = \"bar\")"
      ],
      "execution_count": 115,
      "outputs": [
        {
          "output_type": "execute_result",
          "data": {
            "text/plain": [
              "<matplotlib.axes._subplots.AxesSubplot at 0x7f39ea85c9d0>"
            ]
          },
          "metadata": {
            "tags": []
          },
          "execution_count": 115
        },
        {
          "output_type": "display_data",
          "data": {
            "image/png": "[encoded data removed]",
            "text/plain": [
              "<Figure size 432x288 with 1 Axes>"
            ]
          },
          "metadata": {
            "tags": [],
            "needs_background": "light"
          }
        }
      ]
    },
    {
      "cell_type": "markdown",
      "metadata": {
        "id": "wilwusb_5LjS"
      },
      "source": [
        "Though Men make more Ewallet transactions (184 transactions), Women generated more gross income via Cash payment method.<br>But On comparing the average gross income, there is no big difference between Male and Female"
      ]
    },
    {
      "cell_type": "markdown",
      "metadata": {
        "id": "1fE6eYDu603h"
      },
      "source": [
        "# Compare Rating for each product line"
      ]
    },
    {
      "cell_type": "code",
      "metadata": {
        "colab": {
          "base_uri": "https://localhost:8080/",
          "height": 824
        },
        "id": "jd7jNVEa8U7a",
        "outputId": "a33785fb-3756-429c-f037-aa5fea8ef8f5"
      },
      "source": [
        "df.groupby(['Product line','Customer type','Gender','City'])['Rating'].agg('mean').unstack()"
      ],
      "execution_count": 125,
      "outputs": [
        {
          "output_type": "execute_result",
          "data": {
            "text/html": [
              "<div>\n",
              "<style scoped>\n",
              "    .dataframe tbody tr th:only-of-type {\n",
              "        vertical-align: middle;\n",
              "    }\n",
              "\n",
              "    .dataframe tbody tr th {\n",
              "        vertical-align: top;\n",
              "    }\n",
              "\n",
              "    .dataframe thead th {\n",
              "        text-align: right;\n",
              "    }\n",
              "</style>\n",
              "<table border=\"1\" class=\"dataframe\">\n",
              "  <thead>\n",
              "    <tr style=\"text-align: right;\">\n",
              "      <th></th>\n",
              "      <th></th>\n",
              "      <th>City</th>\n",
              "      <th>Mandalay</th>\n",
              "      <th>Naypyitaw</th>\n",
              "      <th>Yangon</th>\n",
              "    </tr>\n",
              "    <tr>\n",
              "      <th>Product line</th>\n",
              "      <th>Customer type</th>\n",
              "      <th>Gender</th>\n",
              "      <th></th>\n",
              "      <th></th>\n",
              "      <th></th>\n",
              "    </tr>\n",
              "  </thead>\n",
              "  <tbody>\n",
              "    <tr>\n",
              "      <th rowspan=\"4\" valign=\"top\">Electronic accessories</th>\n",
              "      <th rowspan=\"2\" valign=\"top\">Member</th>\n",
              "      <th>Female</th>\n",
              "      <td>7.042857</td>\n",
              "      <td>6.755556</td>\n",
              "      <td>6.416667</td>\n",
              "    </tr>\n",
              "    <tr>\n",
              "      <th>Male</th>\n",
              "      <td>7.307692</td>\n",
              "      <td>6.109091</td>\n",
              "      <td>7.552632</td>\n",
              "    </tr>\n",
              "    <tr>\n",
              "      <th rowspan=\"2\" valign=\"top\">Normal</th>\n",
              "      <th>Female</th>\n",
              "      <td>7.164286</td>\n",
              "      <td>7.042105</td>\n",
              "      <td>6.225000</td>\n",
              "    </tr>\n",
              "    <tr>\n",
              "      <th>Male</th>\n",
              "      <td>6.964286</td>\n",
              "      <td>6.831250</td>\n",
              "      <td>7.276923</td>\n",
              "    </tr>\n",
              "    <tr>\n",
              "      <th rowspan=\"4\" valign=\"top\">Fashion accessories</th>\n",
              "      <th rowspan=\"2\" valign=\"top\">Member</th>\n",
              "      <th>Female</th>\n",
              "      <td>6.456250</td>\n",
              "      <td>7.958824</td>\n",
              "      <td>6.641667</td>\n",
              "    </tr>\n",
              "    <tr>\n",
              "      <th>Male</th>\n",
              "      <td>6.462500</td>\n",
              "      <td>7.215385</td>\n",
              "      <td>6.660000</td>\n",
              "    </tr>\n",
              "    <tr>\n",
              "      <th rowspan=\"2\" valign=\"top\">Normal</th>\n",
              "      <th>Female</th>\n",
              "      <td>6.894118</td>\n",
              "      <td>7.237500</td>\n",
              "      <td>7.312500</td>\n",
              "    </tr>\n",
              "    <tr>\n",
              "      <th>Male</th>\n",
              "      <td>7.146154</td>\n",
              "      <td>7.258824</td>\n",
              "      <td>6.566667</td>\n",
              "    </tr>\n",
              "    <tr>\n",
              "      <th rowspan=\"4\" valign=\"top\">Food and beverages</th>\n",
              "      <th rowspan=\"2\" valign=\"top\">Member</th>\n",
              "      <th>Female</th>\n",
              "      <td>7.116667</td>\n",
              "      <td>7.054545</td>\n",
              "      <td>6.880000</td>\n",
              "    </tr>\n",
              "    <tr>\n",
              "      <th>Male</th>\n",
              "      <td>6.872727</td>\n",
              "      <td>6.961538</td>\n",
              "      <td>7.105263</td>\n",
              "    </tr>\n",
              "    <tr>\n",
              "      <th rowspan=\"2\" valign=\"top\">Normal</th>\n",
              "      <th>Female</th>\n",
              "      <td>7.663636</td>\n",
              "      <td>7.680000</td>\n",
              "      <td>7.092308</td>\n",
              "    </tr>\n",
              "    <tr>\n",
              "      <th>Male</th>\n",
              "      <td>6.170000</td>\n",
              "      <td>6.793333</td>\n",
              "      <td>7.793750</td>\n",
              "    </tr>\n",
              "    <tr>\n",
              "      <th rowspan=\"4\" valign=\"top\">Health and beauty</th>\n",
              "      <th rowspan=\"2\" valign=\"top\">Member</th>\n",
              "      <th>Female</th>\n",
              "      <td>8.014286</td>\n",
              "      <td>7.236364</td>\n",
              "      <td>6.608333</td>\n",
              "    </tr>\n",
              "    <tr>\n",
              "      <th>Male</th>\n",
              "      <td>6.868421</td>\n",
              "      <td>6.892857</td>\n",
              "      <td>7.470000</td>\n",
              "    </tr>\n",
              "    <tr>\n",
              "      <th rowspan=\"2\" valign=\"top\">Normal</th>\n",
              "      <th>Female</th>\n",
              "      <td>6.900000</td>\n",
              "      <td>7.083333</td>\n",
              "      <td>7.522222</td>\n",
              "    </tr>\n",
              "    <tr>\n",
              "      <th>Male</th>\n",
              "      <td>7.142857</td>\n",
              "      <td>6.853333</td>\n",
              "      <td>6.412500</td>\n",
              "    </tr>\n",
              "    <tr>\n",
              "      <th rowspan=\"4\" valign=\"top\">Home and lifestyle</th>\n",
              "      <th rowspan=\"2\" valign=\"top\">Member</th>\n",
              "      <th>Female</th>\n",
              "      <td>7.283333</td>\n",
              "      <td>6.968421</td>\n",
              "      <td>6.981250</td>\n",
              "    </tr>\n",
              "    <tr>\n",
              "      <th>Male</th>\n",
              "      <td>6.044444</td>\n",
              "      <td>7.177778</td>\n",
              "      <td>6.644444</td>\n",
              "    </tr>\n",
              "    <tr>\n",
              "      <th rowspan=\"2\" valign=\"top\">Normal</th>\n",
              "      <th>Female</th>\n",
              "      <td>6.075000</td>\n",
              "      <td>7.400000</td>\n",
              "      <td>6.281250</td>\n",
              "    </tr>\n",
              "    <tr>\n",
              "      <th>Male</th>\n",
              "      <td>6.636842</td>\n",
              "      <td>7.055556</td>\n",
              "      <td>7.913333</td>\n",
              "    </tr>\n",
              "    <tr>\n",
              "      <th rowspan=\"4\" valign=\"top\">Sports and travel</th>\n",
              "      <th rowspan=\"2\" valign=\"top\">Member</th>\n",
              "      <th>Female</th>\n",
              "      <td>6.211111</td>\n",
              "      <td>6.680000</td>\n",
              "      <td>7.022222</td>\n",
              "    </tr>\n",
              "    <tr>\n",
              "      <th>Male</th>\n",
              "      <td>6.075000</td>\n",
              "      <td>7.330769</td>\n",
              "      <td>7.863636</td>\n",
              "    </tr>\n",
              "    <tr>\n",
              "      <th rowspan=\"2\" valign=\"top\">Normal</th>\n",
              "      <th>Female</th>\n",
              "      <td>6.608333</td>\n",
              "      <td>7.030769</td>\n",
              "      <td>7.381818</td>\n",
              "    </tr>\n",
              "    <tr>\n",
              "      <th>Male</th>\n",
              "      <td>6.980000</td>\n",
              "      <td>8.066667</td>\n",
              "      <td>7.057895</td>\n",
              "    </tr>\n",
              "  </tbody>\n",
              "</table>\n",
              "</div>"
            ],
            "text/plain": [
              "City                                         Mandalay  Naypyitaw    Yangon\n",
              "Product line           Customer type Gender                               \n",
              "Electronic accessories Member        Female  7.042857   6.755556  6.416667\n",
              "                                     Male    7.307692   6.109091  7.552632\n",
              "                       Normal        Female  7.164286   7.042105  6.225000\n",
              "                                     Male    6.964286   6.831250  7.276923\n",
              "Fashion accessories    Member        Female  6.456250   7.958824  6.641667\n",
              "                                     Male    6.462500   7.215385  6.660000\n",
              "                       Normal        Female  6.894118   7.237500  7.312500\n",
              "                                     Male    7.146154   7.258824  6.566667\n",
              "Food and beverages     Member        Female  7.116667   7.054545  6.880000\n",
              "                                     Male    6.872727   6.961538  7.105263\n",
              "                       Normal        Female  7.663636   7.680000  7.092308\n",
              "                                     Male    6.170000   6.793333  7.793750\n",
              "Health and beauty      Member        Female  8.014286   7.236364  6.608333\n",
              "                                     Male    6.868421   6.892857  7.470000\n",
              "                       Normal        Female  6.900000   7.083333  7.522222\n",
              "                                     Male    7.142857   6.853333  6.412500\n",
              "Home and lifestyle     Member        Female  7.283333   6.968421  6.981250\n",
              "                                     Male    6.044444   7.177778  6.644444\n",
              "                       Normal        Female  6.075000   7.400000  6.281250\n",
              "                                     Male    6.636842   7.055556  7.913333\n",
              "Sports and travel      Member        Female  6.211111   6.680000  7.022222\n",
              "                                     Male    6.075000   7.330769  7.863636\n",
              "                       Normal        Female  6.608333   7.030769  7.381818\n",
              "                                     Male    6.980000   8.066667  7.057895"
            ]
          },
          "metadata": {
            "tags": []
          },
          "execution_count": 125
        }
      ]
    },
    {
      "cell_type": "code",
      "metadata": {
        "colab": {
          "base_uri": "https://localhost:8080/",
          "height": 494
        },
        "id": "s3tcaBWC68IY",
        "outputId": "593f4629-6644-4275-a488-96090029154f"
      },
      "source": [
        "df.groupby(['Product line','Customer type','Gender','City'])['Rating'].agg('mean').unstack().plot(kind = \"bar\")"
      ],
      "execution_count": 124,
      "outputs": [
        {
          "output_type": "execute_result",
          "data": {
            "text/plain": [
              "<matplotlib.axes._subplots.AxesSubplot at 0x7f39ebbf2110>"
            ]
          },
          "metadata": {
            "tags": []
          },
          "execution_count": 124
        },
        {
          "output_type": "display_data",
          "data": {
            "image/png": "[encoded data removed]",
            "text/plain": [
              "<Figure size 432x288 with 1 Axes>"
            ]
          },
          "metadata": {
            "tags": [],
            "needs_background": "light"
          }
        }
      ]
    },
    {
      "cell_type": "markdown",
      "metadata": {
        "id": "3gPcJiOh9LF8"
      },
      "source": [
        "We Can observe that the electronic accessories in Naypyitaw needs improvement compared to others"
      ]
    }
  ]
}